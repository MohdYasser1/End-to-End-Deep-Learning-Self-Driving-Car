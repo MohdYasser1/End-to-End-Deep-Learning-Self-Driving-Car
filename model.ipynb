{
  "cells": [
    {
      "cell_type": "markdown",
      "metadata": {
        "id": "view-in-github",
        "colab_type": "text"
      },
      "source": [
        "<a href=\"https://colab.research.google.com/github/MohdYasser1/End-to-End-Deep-Learning-Self-Driving-Car/blob/main/model.ipynb\" target=\"_parent\"><img src=\"https://colab.research.google.com/assets/colab-badge.svg\" alt=\"Open In Colab\"/></a>"
      ]
    },
    {
      "cell_type": "markdown",
      "metadata": {
        "id": "2urExHJ7vHHa"
      },
      "source": [
        "# Behaviour Clonning for Self-Driving Car simulator using Deep Learning  \n",
        "This NoteBook is about using deep-learning to take images captured by a simulator that is driven by myself. The goal of this project is to try several famous deep-learning architecture as well as trying one by self.\n",
        "### The content of this NoteBook will include:\n",
        "1. Self-Made architecture\n",
        "2. Nvidea's architecture for Self-Driving cars (Comming Soon ...)\n",
        "3. An upgrade for the Nvidea's architecture using Feature Analysis and Selection (Comming Soon ...)\n",
        "4. End-to-End Learning with Memory Models (Comming Soon ...)"
      ]
    },
    {
      "cell_type": "markdown",
      "metadata": {
        "id": "QzS-yOjHvLhC"
      },
      "source": [
        "### 1. Self-Made Architecture  \n",
        "We will first start with an architecture made from my knowledge of CNN and using random hyperparamters and random layers (Everything will be random 😂). This architecture will be the base architecture to evaluate the next famous architectures."
      ]
    },
    {
      "cell_type": "code",
      "execution_count": 34,
      "metadata": {
        "id": "5FRQCkoKvBRR",
        "colab": {
          "base_uri": "https://localhost:8080/"
        },
        "outputId": "3b7a785b-66c0-4c1c-96d3-7e60acc84085"
      },
      "outputs": [
        {
          "output_type": "stream",
          "name": "stdout",
          "text": [
            "Drive already mounted at /content/drive; to attempt to forcibly remount, call drive.mount(\"/content/drive\", force_remount=True).\n"
          ]
        }
      ],
      "source": [
        "from google.colab import drive\n",
        "drive.mount('/content/drive')"
      ]
    },
    {
      "cell_type": "code",
      "execution_count": 2,
      "metadata": {
        "id": "_PMIvgULvNaD",
        "colab": {
          "base_uri": "https://localhost:8080/"
        },
        "outputId": "c927e2ac-47f3-44b0-9997-3a716fb5117f"
      },
      "outputs": [
        {
          "output_type": "execute_result",
          "data": {
            "text/plain": [
              "True"
            ]
          },
          "metadata": {},
          "execution_count": 2
        }
      ],
      "source": [
        "# Import Numpy for data manuplation\n",
        "import numpy as np\n",
        "import pandas as pd\n",
        "\n",
        "# Import Pytorch\n",
        "import torch\n",
        "from torch import nn, optim\n",
        "from torch.utils.data import Dataset, ConcatDataset, random_split, DataLoader\n",
        "\n",
        "# Import torchvision\n",
        "from torchvision import transforms, datasets\n",
        "\n",
        "#Import PIL.Image\n",
        "from PIL import Image\n",
        "\n",
        "device = torch.device('cuda' if torch.cuda.is_available() else 'cpu')\n",
        "torch.cuda.is_available()"
      ]
    },
    {
      "cell_type": "markdown",
      "metadata": {
        "id": "BYLrxGEpxbnX"
      },
      "source": [
        "The Data collected are seperated into 2 Dataset:  \n",
        "1. A dataset driving the track normally.\n",
        "2. A dataset driving the track the other way"
      ]
    },
    {
      "cell_type": "markdown",
      "metadata": {
        "id": "T7ZfTl7uxgMs"
      },
      "source": [
        "We first need to make a custom Dataset to get the images with the labels"
      ]
    },
    {
      "cell_type": "code",
      "execution_count": 56,
      "metadata": {
        "id": "EQIOm4tSvPd8"
      },
      "outputs": [],
      "source": [
        "class CustomDataSet(Dataset):\n",
        "    def __init__(self, csv_file, transform = None):\n",
        "        self.df = pd.read_csv(csv_file)\n",
        "        self.transform = transform\n",
        "\n",
        "    def __len__(self):\n",
        "        return len(self.df)\n",
        "\n",
        "    def __getitem__(self, idx):\n",
        "        images = Image.open(self.df.iloc[idx, 0])\n",
        "\n",
        "        if self.transform:\n",
        "            images =self.transform(images)\n",
        "\n",
        "        steering_angle = self.df.iloc[idx, 3:4].values.astype(float)\n",
        "        throttle = self.df.iloc[idx, 4:5].values.astype(float)\n",
        "\n",
        "        return images, steering_angle, throttle"
      ]
    },
    {
      "cell_type": "code",
      "execution_count": 57,
      "metadata": {
        "id": "BgVF6u90x_j_"
      },
      "outputs": [],
      "source": [
        "# Inputting image details\n",
        "IMAGE_HEIGHT, IMAGE_WIDTH, IMAGE_CHANNELS = 160, 320, 3\n",
        "INPUT_SHAPE = (IMAGE_HEIGHT, IMAGE_WIDTH, IMAGE_CHANNELS)\n",
        "\n",
        "#Defining image transformations\n",
        "data_transform = transforms.Compose([transforms.Resize((IMAGE_HEIGHT, IMAGE_WIDTH)),\n",
        "                                    transforms.ToTensor()])"
      ]
    },
    {
      "cell_type": "code",
      "execution_count": 58,
      "metadata": {
        "colab": {
          "base_uri": "https://localhost:8080/"
        },
        "id": "FQu1pz81yCI8",
        "outputId": "c01d9c42-0ffb-49d8-e9bf-da35e29d4ecb"
      },
      "outputs": [
        {
          "output_type": "stream",
          "name": "stdout",
          "text": [
            "The size of the whole datase: 6633\n",
            "\n",
            "The size of the train data: 5306\n",
            "The size of the test data: 1327\n"
          ]
        }
      ],
      "source": [
        "# Loading csvs files\n",
        "forward_csv_path = r\"/content/drive/MyDrive/Data/RacingTeam/DeepLearning Project/Forward/driving_log.csv\"\n",
        "backward_csv_path = r\"/content/drive/MyDrive/Data/RacingTeam/DeepLearning Project/Backward/driving_log.csv\"\n",
        "\n",
        "# Create the DataSets\n",
        "froward_data = CustomDataSet(forward_csv_path, data_transform)\n",
        "backward_data = CustomDataSet(backward_csv_path, data_transform)\n",
        "\n",
        "# Joining the 2 Datasets\n",
        "data = ConcatDataset([froward_data, backward_data])\n",
        "\n",
        "#Checking the data\n",
        "print(f\"The size of the whole datase: {len(data)}\\n\")\n",
        "\n",
        "# Splitting the data into train and test\n",
        "train_size = int(0.8 * len(data))\n",
        "test_size = len(data) - train_size\n",
        "train_data, test_data = random_split(data, [train_size, test_size])\n",
        "print(f\"The size of the train data: {len(train_data)}\")\n",
        "print(f\"The size of the test data: {len(test_data)}\")"
      ]
    },
    {
      "cell_type": "code",
      "execution_count": 59,
      "metadata": {
        "id": "Ugg6BQL8yXlP"
      },
      "outputs": [],
      "source": [
        "# Creating the DataLoaders\n",
        "train_loader = DataLoader(train_data, batch_size = 40, shuffle = True)\n",
        "test_loader = DataLoader(test_data, batch_size = 40, shuffle = False)\n"
      ]
    },
    {
      "cell_type": "markdown",
      "metadata": {
        "id": "bxdCasCFycmG"
      },
      "source": [
        "This architecture will be based on a simple architecture I took in the Deep Learning Session.  \n",
        "The Architecture will be consisted of:\n",
        "1. Convlution Layer 48@78x158 + Maxpooling 48@39x79\n",
        "2. Convlution Layer 96@18x38 + Maxpooling 96@9x19\n",
        "3. Flatten\n",
        "4. Fully-connected layer with 50 neuros\n",
        "5. Fully-connected layer with 10 neurons\n",
        "6. Output-Layer with 2 outputs: Steering_angle & Throttle"
      ]
    },
    {
      "cell_type": "code",
      "execution_count": 60,
      "metadata": {
        "id": "zMgUhgSNyf-b"
      },
      "outputs": [],
      "source": [
        "# Creating the CNN model\n",
        "import torch.nn.functional as F\n",
        "\n",
        "class SelfMadeModel(nn.Module):\n",
        "    def __init__(self):\n",
        "        super(SelfMadeModel, self).__init__()\n",
        "\n",
        "        self.conv1 = nn.Sequential(\n",
        "            nn.Conv2d(\n",
        "                in_channels=3,\n",
        "                out_channels=48,\n",
        "                kernel_size=5,\n",
        "                stride=(2,2),\n",
        "            ),\n",
        "            nn.ReLU(),\n",
        "            nn.MaxPool2d(2),\n",
        "        )\n",
        "        self.conv2 = nn.Sequential(\n",
        "            nn.Conv2d(48, 96, 5, (2,2)),\n",
        "            nn.ReLU(),\n",
        "            nn.MaxPool2d(2),\n",
        "\n",
        "        )\n",
        "        self.fc = nn.Linear(9*19*96, 25)\n",
        "        self.fc1 = nn.Linear(25, 5)\n",
        "        self.fc2 = nn.Linear(5, 2)\n",
        "\n",
        "    def forward(self,x):\n",
        "        x = self.conv1(x)\n",
        "        x = self.conv2(x)\n",
        "        x = x.view(-1, 16416)\n",
        "        x = F.relu(self.fc(x))\n",
        "        x = F.relu(self.fc1(x))\n",
        "        x = self.fc2(x)\n",
        "        return x"
      ]
    },
    {
      "cell_type": "code",
      "execution_count": 61,
      "metadata": {
        "id": "lJX_lff5ylJx",
        "colab": {
          "base_uri": "https://localhost:8080/"
        },
        "outputId": "e693ec83-455b-40c8-be51-f46a5842c1ec"
      },
      "outputs": [
        {
          "output_type": "execute_result",
          "data": {
            "text/plain": [
              "SelfMadeModel(\n",
              "  (conv1): Sequential(\n",
              "    (0): Conv2d(3, 48, kernel_size=(5, 5), stride=(2, 2))\n",
              "    (1): ReLU()\n",
              "    (2): MaxPool2d(kernel_size=2, stride=2, padding=0, dilation=1, ceil_mode=False)\n",
              "  )\n",
              "  (conv2): Sequential(\n",
              "    (0): Conv2d(48, 96, kernel_size=(5, 5), stride=(2, 2))\n",
              "    (1): ReLU()\n",
              "    (2): MaxPool2d(kernel_size=2, stride=2, padding=0, dilation=1, ceil_mode=False)\n",
              "  )\n",
              "  (fc): Linear(in_features=16416, out_features=25, bias=True)\n",
              "  (fc1): Linear(in_features=25, out_features=5, bias=True)\n",
              "  (fc2): Linear(in_features=5, out_features=2, bias=True)\n",
              ")"
            ]
          },
          "metadata": {},
          "execution_count": 61
        }
      ],
      "source": [
        "model = SelfMadeModel().to(device)\n",
        "loss_fn = nn.MSELoss()\n",
        "optimizer = optim.Adam(model.parameters(), lr = 0.005)\n",
        "model"
      ]
    },
    {
      "cell_type": "code",
      "execution_count": 37,
      "metadata": {
        "id": "koYeVacBy_7T",
        "colab": {
          "base_uri": "https://localhost:8080/"
        },
        "outputId": "3bb06ca5-1c66-41a2-abfa-5c72e6eefa12"
      },
      "outputs": [
        {
          "output_type": "stream",
          "name": "stdout",
          "text": [
            "torch.Size([3, 160, 320])\n",
            "tensor([[-0.1628, -0.0431]], device='cuda:0', grad_fn=<AddmmBackward0>)\n",
            "tensor(0.6009, device='cuda:0', grad_fn=<MseLossBackward0>)\n"
          ]
        },
        {
          "output_type": "stream",
          "name": "stderr",
          "text": [
            "/usr/local/lib/python3.10/dist-packages/torch/nn/modules/loss.py:536: UserWarning: Using a target size (torch.Size([2])) that is different to the input size (torch.Size([1, 2])). This will likely lead to incorrect results due to broadcasting. Please ensure they have the same size.\n",
            "  return F.mse_loss(input, target, reduction=self.reduction)\n"
          ]
        }
      ],
      "source": [
        "# Trying the model\n",
        "examples = iter(test_loader)\n",
        "example_data = next(examples)\n",
        "images = example_data[0][0].to(device)\n",
        "dummy_input = torch.randn(3, 160, 320).to(device)\n",
        "print(dummy_input.shape)\n",
        "output = model(dummy_input)\n",
        "print(output)\n",
        "loss = loss_fn(output, torch.tensor((-0.5, 1.0)).to(device))\n",
        "print(loss)"
      ]
    },
    {
      "cell_type": "code",
      "execution_count": 62,
      "metadata": {
        "id": "oU8zqj3rzCz6"
      },
      "outputs": [],
      "source": [
        "# Training the model\n",
        "\n",
        "num_epochs = 10\n",
        "\n",
        "def train(num_epoches, model, loss_fn, optimizer, loader):\n",
        "\n",
        "    model.train()\n",
        "\n",
        "    total_step = len(loader)\n",
        "\n",
        "    for epochs in range(num_epoches):\n",
        "        model.train()\n",
        "        running_loss = 0.0\n",
        "        for i, (images, steering_angle, throttle) in enumerate (loader):\n",
        "\n",
        "            images = images.to(device)\n",
        "            steering_angle = steering_angle.to(device)\n",
        "            throttle = throttle.to(device)\n",
        "\n",
        "\n",
        "            outputs = model(images)\n",
        "#             print(outputs)\n",
        "#             print([steering_angle, throttle])\n",
        "            loss = loss_fn(outputs, torch.cat((steering_angle, throttle), dim=1).to(torch.float32))\n",
        "\n",
        "#             print(output.dtype)\n",
        "#             print(torch.cat((steering_angle, throttle), dim=1).to(torch.float32).dtype)\n",
        "\n",
        "            optimizer.zero_grad()\n",
        "\n",
        "            loss.backward()\n",
        "\n",
        "            optimizer.step()\n",
        "\n",
        "            running_loss += loss.item()\n",
        "\n",
        "        print(f'[{epochs + 1}] loss: {running_loss / total_step:.3f}')\n",
        "    print('Finished Training')\n"
      ]
    },
    {
      "cell_type": "code",
      "execution_count": 39,
      "metadata": {
        "id": "Q_9-8yjfSrt-",
        "colab": {
          "base_uri": "https://localhost:8080/"
        },
        "outputId": "f03917b2-6abc-4a9e-d6ca-c9e58335caa8"
      },
      "outputs": [
        {
          "output_type": "stream",
          "name": "stdout",
          "text": [
            "[1] loss: 0.588\n",
            "[2] loss: 0.028\n",
            "[3] loss: 0.027\n",
            "[4] loss: 0.027\n",
            "[5] loss: 0.026\n",
            "[6] loss: 0.026\n",
            "[7] loss: 0.025\n",
            "[8] loss: 0.025\n",
            "[9] loss: 0.024\n",
            "[10] loss: 0.022\n",
            "Finished Training\n"
          ]
        }
      ],
      "source": [
        "train(10 , model, loss_fn, optimizer, train_loader)"
      ]
    },
    {
      "cell_type": "code",
      "execution_count": 40,
      "metadata": {
        "id": "SYsuJczwPdin",
        "colab": {
          "base_uri": "https://localhost:8080/"
        },
        "outputId": "e14d6494-b89a-4466-9c21-f42339dfb625"
      },
      "outputs": [
        {
          "output_type": "stream",
          "name": "stdout",
          "text": [
            "34 / 34\n",
            "0.026414296535008094\n"
          ]
        }
      ],
      "source": [
        "from IPython.display import clear_output\n",
        "# Evaluate the model\n",
        "model.eval()\n",
        "\n",
        "running_loss = 0.0\n",
        "num_of_batches = 0.0\n",
        "\n",
        "with torch.no_grad():\n",
        "  n_samples = len(test_loader.dataset)\n",
        "\n",
        "  for i, (images, steering_angle, throttle) in enumerate (test_loader):\n",
        "\n",
        "    images = images.to(device)\n",
        "    steering_angle = steering_angle.to(device)\n",
        "    throttle = throttle.to(device)\n",
        "\n",
        "    preds = model(images)\n",
        "    loss = loss_fn(preds, torch.cat((steering_angle, throttle), dim=1).to(torch.float32))\n",
        "    running_loss += loss.item()\n",
        "    num_of_batches +=1\n",
        "    clear_output(wait=True)\n",
        "    print(f'{i+1} / {len(test_loader)}')\n",
        "print(running_loss/num_of_batches)"
      ]
    },
    {
      "cell_type": "code",
      "execution_count": 41,
      "metadata": {
        "id": "fsOZ12Wvpkh8",
        "colab": {
          "base_uri": "https://localhost:8080/"
        },
        "outputId": "b089bccb-3d41-4605-ad52-e34353bc205b"
      },
      "outputs": [
        {
          "output_type": "stream",
          "name": "stdout",
          "text": [
            "[tensor([[ 0.1312,  1.0033],\n",
            "        [ 0.0257,  0.9975],\n",
            "        [ 0.0129,  1.0196],\n",
            "        [ 0.0246,  1.0465],\n",
            "        [ 0.0620,  1.0475],\n",
            "        [-0.0583,  1.0413],\n",
            "        [-0.1045,  0.9877]], device='cuda:0'), tensor([[0.3500, 1.0000],\n",
            "        [0.0000, 1.0000],\n",
            "        [0.0000, 1.0000],\n",
            "        [0.0000, 1.0000],\n",
            "        [0.0000, 1.0000],\n",
            "        [0.0000, 1.0000],\n",
            "        [0.0000, 1.0000]], device='cuda:0')]\n"
          ]
        }
      ],
      "source": [
        "print([preds, torch.cat((steering_angle, throttle), dim=1).to(torch.float32)])"
      ]
    },
    {
      "cell_type": "code",
      "execution_count": 42,
      "metadata": {
        "id": "zTNp5hr43syb"
      },
      "outputs": [],
      "source": [
        "torch.save(model, \"model.pth\")"
      ]
    },
    {
      "cell_type": "code",
      "execution_count": 63,
      "metadata": {
        "id": "9ZSfYdtFJC6r"
      },
      "outputs": [],
      "source": [
        "from matplotlib import pyplot as plt\n",
        "\n",
        "steer=[]\n",
        "\n",
        "for _,y,_ in train_loader:\n",
        "  for k in range(len(y)):\n",
        "    steer.append(y[k])\n",
        "# plt.hist(np.array(steer), density = True, weights=np.ones(len(steer)) / len(steer) * 100)\n",
        "# plt.show"
      ]
    },
    {
      "cell_type": "code",
      "execution_count": 64,
      "metadata": {
        "id": "_AnWL3-ZJFH4",
        "colab": {
          "base_uri": "https://localhost:8080/"
        },
        "outputId": "054ef24e-7b03-46de-cfa7-e99a4d55775a"
      },
      "outputs": [
        {
          "output_type": "stream",
          "name": "stderr",
          "text": [
            "<ipython-input-64-6023729e997e>:1: FutureWarning: The input object of type 'Tensor' is an array-like implementing one of the corresponding protocols (`__array__`, `__array_interface__` or `__array_struct__`); but not a sequence (or 0-D). In the future, this object will be coerced as if it was first converted using `np.array(obj)`. To retain the old behaviour, you have to either modify the type 'Tensor', or assign to an empty array created with `np.empty(correct_shape, dtype=object)`.\n",
            "  np.count_nonzero(np.array(steer) == 0)/len(steer)\n",
            "<ipython-input-64-6023729e997e>:1: VisibleDeprecationWarning: Creating an ndarray from ragged nested sequences (which is a list-or-tuple of lists-or-tuples-or ndarrays with different lengths or shapes) is deprecated. If you meant to do this, you must specify 'dtype=object' when creating the ndarray.\n",
            "  np.count_nonzero(np.array(steer) == 0)/len(steer)\n"
          ]
        },
        {
          "output_type": "execute_result",
          "data": {
            "text/plain": [
              "0.8077647945721824"
            ]
          },
          "metadata": {},
          "execution_count": 64
        }
      ],
      "source": [
        "np.count_nonzero(np.array(steer) == 0)/len(steer)"
      ]
    },
    {
      "cell_type": "code",
      "source": [
        "steer = [tensor.item() for tensor in steer]\n",
        "\n",
        "plt.hist(np.array(steer))\n",
        "plt.show\n"
      ],
      "metadata": {
        "id": "pmtJP1SNUNUT",
        "colab": {
          "base_uri": "https://localhost:8080/",
          "height": 447
        },
        "outputId": "31291e2e-42ec-4f7d-b090-d26d79ded6f9"
      },
      "execution_count": 65,
      "outputs": [
        {
          "output_type": "execute_result",
          "data": {
            "text/plain": [
              "<function matplotlib.pyplot.show(close=None, block=None)>"
            ]
          },
          "metadata": {},
          "execution_count": 65
        },
        {
          "output_type": "display_data",
          "data": {
            "text/plain": [
              "<Figure size 640x480 with 1 Axes>"
            ],
            "image/png": "[encoded data removed]"
          },
          "metadata": {}
        }
      ]
    },
    {
      "cell_type": "markdown",
      "metadata": {
        "id": "yISws3XTJIrO"
      },
      "source": [
        "Almost 80% of the train data has a steering angle of 0."
      ]
    },
    {
      "cell_type": "markdown",
      "metadata": {
        "id": "83aMkRAsN7cp"
      },
      "source": [
        "We will try to fix it by getting only 25% of the data that has a value of 0"
      ]
    },
    {
      "cell_type": "code",
      "execution_count": 66,
      "metadata": {
        "id": "32OR6uEOJ_PI"
      },
      "outputs": [],
      "source": [
        "zero_angle_data = [sample for sample in train_loader.dataset if sample[1][0] == 0]\n",
        "non_zero_angle_data = [sample for sample in train_loader.dataset if sample[1][0] != 0]\n",
        "sample_size = int(0.25 * len(zero_angle_data))\n",
        "sampled_data = torch.utils.data.RandomSampler(zero_angle_data, num_samples=sample_size)\n",
        "\n",
        "#Create a dataset from the random sampler\n",
        "sampled_indices = list(sampled_data)\n",
        "sampled_dataset = [train_loader.dataset[i] for i in sampled_indices]\n",
        "\n",
        "processed_train = ConcatDataset([sampled_dataset, non_zero_angle_data])\n",
        "new_train_loader = DataLoader(processed_train, batch_size=40, shuffle=True)\n",
        "# len(new_train_loader)"
      ]
    },
    {
      "cell_type": "code",
      "execution_count": 67,
      "metadata": {
        "id": "IDCGjvNfPAEH",
        "colab": {
          "base_uri": "https://localhost:8080/"
        },
        "outputId": "086a1db2-3d43-41f6-bf15-cb45d30f1828"
      },
      "outputs": [
        {
          "output_type": "execute_result",
          "data": {
            "text/plain": [
              "2091"
            ]
          },
          "metadata": {},
          "execution_count": 67
        }
      ],
      "source": [
        "len(new_train_loader.dataset)"
      ]
    },
    {
      "cell_type": "code",
      "execution_count": 68,
      "metadata": {
        "id": "4HE4WmxLPCVk",
        "colab": {
          "base_uri": "https://localhost:8080/"
        },
        "outputId": "614840db-5040-4dad-d622-defcd803d3fe"
      },
      "outputs": [
        {
          "output_type": "stream",
          "name": "stderr",
          "text": [
            "<ipython-input-68-1af6d36fd842>:8: FutureWarning: The input object of type 'Tensor' is an array-like implementing one of the corresponding protocols (`__array__`, `__array_interface__` or `__array_struct__`); but not a sequence (or 0-D). In the future, this object will be coerced as if it was first converted using `np.array(obj)`. To retain the old behaviour, you have to either modify the type 'Tensor', or assign to an empty array created with `np.empty(correct_shape, dtype=object)`.\n",
            "  np.count_nonzero(np.array(steer) == 0)/len(steer)\n",
            "<ipython-input-68-1af6d36fd842>:8: VisibleDeprecationWarning: Creating an ndarray from ragged nested sequences (which is a list-or-tuple of lists-or-tuples-or ndarrays with different lengths or shapes) is deprecated. If you meant to do this, you must specify 'dtype=object' when creating the ndarray.\n",
            "  np.count_nonzero(np.array(steer) == 0)/len(steer)\n"
          ]
        },
        {
          "output_type": "execute_result",
          "data": {
            "text/plain": [
              "0.4146341463414634"
            ]
          },
          "metadata": {},
          "execution_count": 68
        }
      ],
      "source": [
        "steer=[]\n",
        "\n",
        "for _,y,_ in new_train_loader:\n",
        "  for k in range(len(y)):\n",
        "    steer.append(y[k])\n",
        "# plt.hist(np.array(steer), density = True, weights=np.ones(len(steer)) / len(steer) * 100)\n",
        "# plt.show\n",
        "np.count_nonzero(np.array(steer) == 0)/len(steer)"
      ]
    },
    {
      "cell_type": "code",
      "source": [
        "steer = [tensor.item() for tensor in steer]\n",
        "\n",
        "plt.hist(np.array(steer))\n",
        "plt.show\n"
      ],
      "metadata": {
        "id": "b-1pWplEUZRn",
        "colab": {
          "base_uri": "https://localhost:8080/",
          "height": 447
        },
        "outputId": "499ea8b7-9372-43c6-e285-344151e595fd"
      },
      "execution_count": 69,
      "outputs": [
        {
          "output_type": "execute_result",
          "data": {
            "text/plain": [
              "<function matplotlib.pyplot.show(close=None, block=None)>"
            ]
          },
          "metadata": {},
          "execution_count": 69
        },
        {
          "output_type": "display_data",
          "data": {
            "text/plain": [
              "<Figure size 640x480 with 1 Axes>"
            ],
            "image/png": "[encoded data removed]"
          },
          "metadata": {}
        }
      ]
    },
    {
      "cell_type": "code",
      "execution_count": 74,
      "metadata": {
        "colab": {
          "base_uri": "https://localhost:8080/"
        },
        "id": "WzQk8EbCSjWx",
        "outputId": "7b5546e9-e75b-4311-f903-fad8d8a95f9b"
      },
      "outputs": [
        {
          "output_type": "stream",
          "name": "stdout",
          "text": [
            "[1] loss: 0.066\n",
            "[2] loss: 0.066\n",
            "[3] loss: 0.066\n",
            "[4] loss: 0.067\n",
            "[5] loss: 0.066\n",
            "[6] loss: 0.066\n",
            "[7] loss: 0.068\n",
            "[8] loss: 0.067\n",
            "[9] loss: 0.066\n",
            "[10] loss: 0.068\n",
            "[11] loss: 0.067\n",
            "[12] loss: 0.067\n",
            "[13] loss: 0.067\n",
            "[14] loss: 0.067\n",
            "[15] loss: 0.066\n",
            "[16] loss: 0.068\n",
            "[17] loss: 0.066\n",
            "[18] loss: 0.066\n",
            "[19] loss: 0.066\n",
            "[20] loss: 0.066\n",
            "[21] loss: 0.067\n",
            "[22] loss: 0.067\n",
            "[23] loss: 0.067\n",
            "[24] loss: 0.066\n",
            "[25] loss: 0.066\n",
            "[26] loss: 0.067\n",
            "[27] loss: 0.067\n",
            "[28] loss: 0.067\n",
            "[29] loss: 0.066\n",
            "[30] loss: 0.067\n",
            "Finished Training\n"
          ]
        }
      ],
      "source": [
        "train(30 , model, loss_fn, optimizer, new_train_loader)"
      ]
    },
    {
      "cell_type": "code",
      "execution_count": 71,
      "metadata": {
        "colab": {
          "base_uri": "https://localhost:8080/"
        },
        "id": "m--x6wFTS-hs",
        "outputId": "ad6d4a9f-3de4-42cb-c814-6f299fc5e6d0"
      },
      "outputs": [
        {
          "output_type": "stream",
          "name": "stdout",
          "text": [
            "34 / 34\n",
            "0.03191089942393934\n"
          ]
        }
      ],
      "source": [
        "from IPython.display import clear_output\n",
        "# Evaluate the model\n",
        "model.eval()\n",
        "\n",
        "running_loss = 0.0\n",
        "num_of_batches = 0.0\n",
        "\n",
        "with torch.no_grad():\n",
        "  n_samples = len(test_loader.dataset)\n",
        "\n",
        "  for i, (images, steering_angle, throttle) in enumerate (test_loader):\n",
        "\n",
        "    images = images.to(device)\n",
        "    steering_angle = steering_angle.to(device)\n",
        "    throttle = throttle.to(device)\n",
        "\n",
        "    preds = model(images)\n",
        "    loss = loss_fn(preds, torch.cat((steering_angle, throttle), dim=1).to(torch.float32))\n",
        "    running_loss += loss.item()\n",
        "    num_of_batches +=1\n",
        "    clear_output(wait=True)\n",
        "    print(f'{i+1} / {len(test_loader)}')\n",
        "print(running_loss/num_of_batches)"
      ]
    },
    {
      "cell_type": "code",
      "execution_count": 72,
      "metadata": {
        "colab": {
          "base_uri": "https://localhost:8080/"
        },
        "id": "ZbKvxVWGTTHb",
        "outputId": "13777dbd-1d93-425f-96f0-ccac1188ae5c"
      },
      "outputs": [
        {
          "output_type": "stream",
          "name": "stdout",
          "text": [
            "[tensor([[0.0091, 0.9528],\n",
            "        [0.0091, 0.9528],\n",
            "        [0.0091, 0.9528],\n",
            "        [0.0091, 0.9528],\n",
            "        [0.0091, 0.9528],\n",
            "        [0.0091, 0.9528],\n",
            "        [0.0091, 0.9528]], device='cuda:0'), tensor([[ 0.2500,  1.0000],\n",
            "        [ 0.0000,  1.0000],\n",
            "        [ 0.0000,  1.0000],\n",
            "        [ 0.0500,  1.0000],\n",
            "        [ 0.0000,  1.0000],\n",
            "        [ 0.0000,  1.0000],\n",
            "        [-0.7000,  1.0000]], device='cuda:0')]\n"
          ]
        }
      ],
      "source": [
        "#Check the data\n",
        "print([preds, torch.cat((steering_angle, throttle), dim=1).to(torch.float32)])"
      ]
    },
    {
      "cell_type": "code",
      "execution_count": 55,
      "metadata": {
        "id": "8ulZ-uV5Vamk"
      },
      "outputs": [],
      "source": [
        "torch.save(model, \"model.pth\")"
      ]
    },
    {
      "cell_type": "markdown",
      "metadata": {
        "id": "DAGcgrIxVLNN"
      },
      "source": [
        "The model began to variate but it stills not that significant. My initial guess is that it needs some normalization"
      ]
    },
    {
      "cell_type": "markdown",
      "metadata": {
        "id": "L_l_SOAIOJ1S"
      },
      "source": [
        "### 2. Nvidea's architecture for Self-Driving cars"
      ]
    },
    {
      "cell_type": "markdown",
      "metadata": {
        "id": "J2K08lW_OTh7"
      },
      "source": [
        "This model's architecture will be based on Nvidea's paper on self-driving cars withe the title \"End to End Learning for Self-Driving Cars\".\n",
        "Nvideia's Paper:https://arxiv.org/pdf/1604.07316v1.pdf"
      ]
    },
    {
      "cell_type": "code",
      "execution_count": null,
      "metadata": {
        "id": "FczDHIlypH9s"
      },
      "outputs": [],
      "source": [
        "import cv2\n",
        "\n",
        "#We will create a dataset to apply some transformation and agumentations specified in the paper\n",
        "\n",
        "def crop(image):\n",
        "    \"\"\"\n",
        "    Crop the image (removing the sky at the top and the car front at the bottom)\n",
        "    \"\"\"\n",
        "    return image[60:-25, :, :] # remove the sky and the car front\n",
        "\n",
        "def resize(image):\n",
        "    \"\"\"\n",
        "    Resize the image to the input shape used by the network model\n",
        "    \"\"\"\n",
        "    return cv2.resize(image, (66, 200), cv2.INTER_AREA)\n",
        "\n",
        "def rgb2yuv(image):\n",
        "    \"\"\"\n",
        "    Convert the image from RGB to YUV (This is what the NVIDIA model does)\n",
        "    \"\"\"\n",
        "    return cv2.cvtColor(image, cv2.COLOR_RGB2YUV)\n",
        "\n",
        "def preprocess(image):\n",
        "    \"\"\"\n",
        "    Combine all preprocess functions into one\n",
        "    \"\"\"\n",
        "    image = crop(image)\n",
        "    image = resize(image)\n",
        "    image = rgb2yuv(image)\n",
        "    return image\n",
        "\n",
        "def random_brightness(image):\n",
        "    \"\"\"\n",
        "    Randomly adjust brightness of the image.\n",
        "    \"\"\"\n",
        "    # HSV (Hue, Saturation, Value) is also called HSB ('B' for Brightness).\n",
        "    hsv = cv2.cvtColor(image, cv2.COLOR_RGB2HSV)\n",
        "    ratio = 1.0 + 0.4 * (np.random.rand() - 0.5)\n",
        "    hsv[:,:,2] =  hsv[:,:,2] * ratio\n",
        "    return cv2.cvtColor(hsv, cv2.COLOR_HSV2RGB)\n",
        "\n",
        "def random_shadow(image):\n",
        "    \"\"\"\n",
        "    Generates and adds random shadow\n",
        "    \"\"\"\n",
        "    # (x1, y1) and (x2, y2) forms a line\n",
        "    # xm, ym gives all the locations of the image\n",
        "    x1, y1 = 200 * np.random.rand(), 0\n",
        "    x2, y2 = 200 * np.random.rand(), 66\n",
        "    xm, ym = np.mgrid[0:66, 0:200]\n",
        "\n",
        "    # mathematically speaking, we want to set 1 below the line and zero otherwise\n",
        "    # Our coordinate is up side down.  So, the above the line:\n",
        "    # (ym-y1)/(xm-x1) > (y2-y1)/(x2-x1)\n",
        "    # as x2 == x1 causes zero-division problem, we'll write it in the below form:\n",
        "    # (ym-y1)*(x2-x1) - (y2-y1)*(xm-x1) > 0\n",
        "    mask = np.zeros_like(image[:, :, 1])\n",
        "    mask[(ym - y1) * (x2 - x1) - (y2 - y1) * (xm - x1) > 0] = 1\n",
        "\n",
        "    # choose which side should have shadow and adjust saturation\n",
        "    cond = mask == np.random.randint(2)\n",
        "    s_ratio = np.random.uniform(low=0.2, high=0.5)\n",
        "\n",
        "    # adjust Saturation in HLS(Hue, Light, Saturation)\n",
        "    hls = cv2.cvtColor(image, cv2.COLOR_RGB2HLS)\n",
        "    hls[:, :, 1][cond] = hls[:, :, 1][cond] * s_ratio\n",
        "    return cv2.cvtColor(hls, cv2.COLOR_HLS2RGB)\n",
        "\n",
        "\n",
        "def random_translate(image, steering_angle, range_x = 100, range_y = 10):\n",
        "  \"\"\"\n",
        "  Randomly shift the image virtially and horizontally (translation).\n",
        "  \"\"\"\n",
        "  trans_x = range_x * (np.random.rand() - 0.5)\n",
        "  trans_y = range_y * (np.random.rand() - 0.5)\n",
        "  steering_angle += trans_x * 0.002\n",
        "  trans_m = np.float32([[1, 0, trans_x], [0, 1, trans_y]])\n",
        "  height, width = image.shape[:2]\n",
        "  image = cv2.warpAffine(image, trans_m, (width, height))\n",
        "  return image, steering_angle\n",
        "\n",
        "\n",
        "def random_flip(image, steering_angle):\n",
        "  \"\"\"\n",
        "  Randomly flipt the image left <-> right, and adjust the steering angle.\n",
        "  \"\"\"\n",
        "  if np.random.rand() < 0.5:\n",
        "    image = cv2.flip(image, 1)\n",
        "    steering_angle = -steering_angle\n",
        "    return image, steering_angle\n",
        "\n",
        "def augment(image, steering_angle):\n",
        "  \"\"\"\n",
        "  Generate an augumented image and adjust steering angle.\n",
        "  \"\"\"\n",
        "  image, steering_angle = random_flip(image, steering_angle)\n",
        "  image, steering_angle = random_translate(image, steering_angle)\n",
        "  image = random_shadow(image)\n",
        "  image = random_brightness(image)\n",
        "\n",
        "  return image, steering_angle\n",
        "\n",
        "class NvideaDataset(Dataset):\n",
        "    def __init__(self, image, steering_angle, throttle, transform, is_training):\n",
        "        self.image = image\n",
        "        self.steering_angle = steering_angle\n",
        "        self.throttle = throttle\n",
        "\n",
        "    def __len__(self):\n",
        "        return len(self.steering_angle)\n",
        "\n",
        "    def __getitem__(self, idx):\n",
        "        images = self.image[idx]\n",
        "        steering_angle = self.steering_angle[idx]\n",
        "        throttle = self.throttle[idx]\n",
        "\n",
        "        if is_training and np.random.rand() < 0.6:\n",
        "          images, steering_angle = augument(images, steering_angle)\n",
        "\n",
        "        if self.transform:\n",
        "            images =self.transform(images)\n",
        "\n",
        "        return images, steering_angle, throttle\n",
        "\n"
      ]
    },
    {
      "cell_type": "code",
      "execution_count": 75,
      "metadata": {
        "id": "oQZ82Z8d4V5S",
        "colab": {
          "base_uri": "https://localhost:8080/"
        },
        "outputId": "d0a36f20-86c6-4ba5-f66c-e39a3568ea0e"
      },
      "outputs": [
        {
          "output_type": "stream",
          "name": "stdout",
          "text": [
            "The size of the whole datase: 6633\n",
            "\n",
            "The size of the train data: 5306\n",
            "The size of the test data: 1327\n"
          ]
        }
      ],
      "source": [
        "data_transform = transforms.Compose([transforms.Resize((66,200)),\n",
        "                                     transforms.ToTensor()])\n",
        "\n",
        "# Loading csvs files\n",
        "forward_csv_path = r\"/content/drive/MyDrive/Data/RacingTeam/DeepLearning Project/Forward/driving_log.csv\"\n",
        "backward_csv_path = r\"/content/drive/MyDrive/Data/RacingTeam/DeepLearning Project/Backward/driving_log.csv\"\n",
        "\n",
        "# Create the DataSets\n",
        "froward_data = CustomDataSet(forward_csv_path, data_transform)\n",
        "backward_data = CustomDataSet(backward_csv_path, data_transform)\n",
        "\n",
        "# Joining the 2 Datasets\n",
        "data = ConcatDataset([froward_data, backward_data])\n",
        "\n",
        "#Checking the data\n",
        "print(f\"The size of the whole datase: {len(data)}\\n\")\n",
        "\n",
        "# Splitting the data into train and test\n",
        "train_size = int(0.8 * len(data))\n",
        "test_size = len(data) - train_size\n",
        "train_data, test_data = random_split(data, [train_size, test_size])\n",
        "\n",
        "# train_img = [item[0] for item in train_data]\n",
        "# train_steer = [item[1] for item in train_data]\n",
        "# train_thrtl = [item[2] for item in train_data]\n",
        "\n",
        "# test_img = [item[0] for item in test_data]\n",
        "# test_steer = [item[1] for item in test_data]\n",
        "# test_thrtl = [item[2] for item in test_data]\n",
        "\n",
        "# train_data = NvideaDataset(train_img, train_steer, train_thrtl,data_transform, True)\n",
        "# test_data = NvideaDataset(test_img, test_steer, test_thrtl,data_transform False)\n",
        "\n",
        "print(f\"The size of the train data: {len(train_data)}\")\n",
        "print(f\"The size of the test data: {len(test_data)}\")\n",
        "\n",
        "train_loader = DataLoader(train_data, batch_size=40, shuffle=True)\n",
        "test_loader = DataLoader(test_data, batch_size=40, shuffle=False)"
      ]
    },
    {
      "cell_type": "markdown",
      "metadata": {
        "id": "ljGtURRRdJFd"
      },
      "source": [
        "The architecture will consist of:\n",
        "1. Normalized input planes 3@66x200\n",
        "2. Convulution feature map 5x5, 24@31x98\n",
        "3. Convulution feature map 5x5, 36@14x47\n",
        "4. Convulution feature map 5x5. 48@5x22\n",
        "5. Convulution feature map 3x3. 64@3x20\n",
        "6. Convulution feature map 3x3, 64@1x18\n",
        "7. Flatten\n",
        "8. Fully-Connected layer with 1164 neurons\n",
        "9. Fully-Connected layer with 100 neurons\n",
        "10. Fully-Connected layer with 50 neurons\n",
        "11. Fully-Connected layer with 10 neurons\n",
        "12. Output layer with 2 neurons"
      ]
    },
    {
      "cell_type": "markdown",
      "metadata": {
        "id": "QxsXLLTlf2zs"
      },
      "source": [
        "As we can see this architecture is more complex than the self-made architecture and more scientificaly based"
      ]
    },
    {
      "cell_type": "code",
      "execution_count": 76,
      "metadata": {
        "id": "pGG6m34FOH78"
      },
      "outputs": [],
      "source": [
        "import torch.nn.functional as F\n",
        "\n",
        "class NvideaModel(nn.Module):\n",
        "  def __init__(self):\n",
        "    super(NvideaModel, self).__init__()\n",
        "\n",
        "    self.conv1 = nn.Sequential(\n",
        "      nn.Conv2d(3, 24, 5, (2,2)),\n",
        "      nn.ELU(),\n",
        "    )\n",
        "    self.conv2 = nn.Sequential(\n",
        "      nn.Conv2d(24, 36, 5, (2,2)),\n",
        "      nn.ELU(),\n",
        "    )\n",
        "    self.conv3 = nn.Sequential(\n",
        "      nn.Conv2d(36, 48, 5, (2,2)),\n",
        "      nn.ELU(),\n",
        "    )\n",
        "    self.conv4 = nn.Sequential(\n",
        "      nn.Conv2d(48, 64, 3),\n",
        "      nn.ELU(),\n",
        "    )\n",
        "    self.conv5 = nn.Sequential(\n",
        "      nn.Conv2d(64, 64, 3),\n",
        "      nn.ELU(),\n",
        "    )\n",
        "    self.dropout = nn.Dropout(p=0.5)\n",
        "    self.fc = nn.Linear(64 * 1 * 18, 100)\n",
        "    self.fc1 = nn.Linear(100, 50)\n",
        "    self.fc2 = nn.Linear(50, 10)\n",
        "    self.fc3 = nn.Linear(10, 2)\n",
        "\n",
        "  def forward(self, x):\n",
        "    x = self.conv1(x)\n",
        "    x = self.conv2(x)\n",
        "    x = self.conv3(x)\n",
        "    x = self.conv4(x)\n",
        "    x = self.conv5(x)\n",
        "    x = self.dropout(x)\n",
        "    x = x.view(x.size(0), -1)\n",
        "    x = F.elu(self.fc(x))\n",
        "    x = F.elu(self.fc1(x))\n",
        "    x = F.elu(self.fc2(x))\n",
        "    x = self.fc3(x)\n",
        "    return x"
      ]
    },
    {
      "cell_type": "code",
      "execution_count": 77,
      "metadata": {
        "id": "dsnTnkyy5ctu",
        "colab": {
          "base_uri": "https://localhost:8080/"
        },
        "outputId": "5a183926-c8ac-4509-a26c-4cac003cadf6"
      },
      "outputs": [
        {
          "output_type": "execute_result",
          "data": {
            "text/plain": [
              "NvideaModel(\n",
              "  (conv1): Sequential(\n",
              "    (0): Conv2d(3, 24, kernel_size=(5, 5), stride=(2, 2))\n",
              "    (1): ELU(alpha=1.0)\n",
              "  )\n",
              "  (conv2): Sequential(\n",
              "    (0): Conv2d(24, 36, kernel_size=(5, 5), stride=(2, 2))\n",
              "    (1): ELU(alpha=1.0)\n",
              "  )\n",
              "  (conv3): Sequential(\n",
              "    (0): Conv2d(36, 48, kernel_size=(5, 5), stride=(2, 2))\n",
              "    (1): ELU(alpha=1.0)\n",
              "  )\n",
              "  (conv4): Sequential(\n",
              "    (0): Conv2d(48, 64, kernel_size=(3, 3), stride=(1, 1))\n",
              "    (1): ELU(alpha=1.0)\n",
              "  )\n",
              "  (conv5): Sequential(\n",
              "    (0): Conv2d(64, 64, kernel_size=(3, 3), stride=(1, 1))\n",
              "    (1): ELU(alpha=1.0)\n",
              "  )\n",
              "  (dropout): Dropout(p=0.5, inplace=False)\n",
              "  (fc): Linear(in_features=1152, out_features=100, bias=True)\n",
              "  (fc1): Linear(in_features=100, out_features=50, bias=True)\n",
              "  (fc2): Linear(in_features=50, out_features=10, bias=True)\n",
              "  (fc3): Linear(in_features=10, out_features=2, bias=True)\n",
              ")"
            ]
          },
          "metadata": {},
          "execution_count": 77
        }
      ],
      "source": [
        "modelN = NvideaModel().to(device)\n",
        "loss_fn = nn.MSELoss()\n",
        "optimizer = optim.Adam(modelN.parameters(), lr = 0.01)\n",
        "modelN"
      ]
    },
    {
      "cell_type": "code",
      "execution_count": null,
      "metadata": {
        "id": "xXFXFLFmOjVr",
        "colab": {
          "base_uri": "https://localhost:8080/"
        },
        "outputId": "1680702f-18b3-4ba5-f57a-b6a2888a28a6"
      },
      "outputs": [
        {
          "output_type": "stream",
          "name": "stdout",
          "text": [
            "[1] loss: 98.820\n",
            "[2] loss: 0.311\n",
            "[3] loss: 0.104\n",
            "[4] loss: 0.043\n",
            "[5] loss: 0.031\n",
            "[6] loss: 0.030\n",
            "[7] loss: 0.030\n",
            "[8] loss: 0.030\n",
            "[9] loss: 0.030\n",
            "[10] loss: 0.030\n",
            "[11] loss: 0.030\n"
          ]
        }
      ],
      "source": [
        "train(20, modelN, loss_fn, optimizer, train_loader)"
      ]
    },
    {
      "cell_type": "code",
      "source": [
        "from IPython.display import clear_output\n",
        "# Evaluate the model\n",
        "model.eval()\n",
        "\n",
        "running_loss = 0.0\n",
        "num_of_batches = 0.0\n",
        "\n",
        "with torch.no_grad():\n",
        "  n_samples = len(test_loader.dataset)\n",
        "\n",
        "  for i, (images, steering_angle, throttle) in enumerate (test_loader):\n",
        "\n",
        "    images = images.to(device)\n",
        "    steering_angle = steering_angle.to(device)\n",
        "    throttle = throttle.to(device)\n",
        "\n",
        "    preds = modelN(images)\n",
        "    loss = loss_fn(preds, torch.cat((steering_angle, throttle), dim=1).to(torch.float32))\n",
        "    running_loss += loss.item()\n",
        "    num_of_batches +=1\n",
        "    clear_output(wait=True)\n",
        "    print(f'{i+1} / {len(test_loader)}')\n",
        "print(running_loss/num_of_batches)"
      ],
      "metadata": {
        "id": "kedZgZLqW_eZ"
      },
      "execution_count": null,
      "outputs": []
    },
    {
      "cell_type": "code",
      "source": [],
      "metadata": {
        "id": "46acVb9Vyebu"
      },
      "execution_count": null,
      "outputs": []
    }
  ],
  "metadata": {
    "colab": {
      "provenance": [],
      "gpuType": "T4",
      "mount_file_id": "1rtBYsuxM2DWE0YWi9Rm57d3wR8cWea2q",
      "authorship_tag": "ABX9TyMWCvIrG4UTfV0Trt4MZgIb",
      "include_colab_link": true
    },
    "kernelspec": {
      "display_name": "Python 3",
      "name": "python3"
    },
    "language_info": {
      "name": "python"
    },
    "accelerator": "GPU"
  },
  "nbformat": 4,
  "nbformat_minor": 0
}